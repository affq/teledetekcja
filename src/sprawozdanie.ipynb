{
 "cells": [
  {
   "cell_type": "code",
   "execution_count": 17,
   "metadata": {},
   "outputs": [],
   "source": [
    "import matplotlib.pyplot as plt\n",
    "from funcs import *\n",
    "import os\n",
    "\n",
    "os.chdir(R'C:\\Users\\adria\\Desktop\\STUDIA_FOLDERY\\TELEDETEKCJA')"
   ]
  },
  {
   "cell_type": "code",
   "execution_count": 18,
   "metadata": {},
   "outputs": [
    {
     "name": "stderr",
     "output_type": "stream",
     "text": [
      "c:\\Users\\adria\\anaconda3\\envs\\teledetekcja\\Lib\\site-packages\\osgeo\\gdal.py:8817: RuntimeWarning: CIR_2015.tif: JPEGFixupTagsSubsamplingSec:Auto-corrected former TIFF subsampling values [2,2] to match subsampling values inside JPEG compressed data [1,1]\n",
      "  return _gdal.Open(*args)\n",
      "c:\\Users\\adria\\anaconda3\\envs\\teledetekcja\\Lib\\site-packages\\osgeo\\gdal.py:8817: RuntimeWarning: RGB_2015.tif: JPEGFixupTagsSubsamplingSec:Auto-corrected former TIFF subsampling values [2,2] to match subsampling values inside JPEG compressed data [1,1]\n",
      "  return _gdal.Open(*args)\n"
     ]
    }
   ],
   "source": [
    "cir_raster = r\"TIFs\\CIR_2015.tif\"\n",
    "cir_dataset = read_spatial_raster(cir_raster)\n",
    "\n",
    "rgb_raster = r\"TIFs\\RGB_2015.tif\"\n",
    "rgb_dataset = read_spatial_raster(rgb_raster)"
   ]
  },
  {
   "cell_type": "code",
   "execution_count": 19,
   "metadata": {},
   "outputs": [],
   "source": [
    "band_nir = cir_dataset.GetRasterBand(1)\n",
    "array_nir = band_nir.ReadAsArray()\n",
    "array_nir = np.copy(array_nir)\n",
    "\n",
    "band_red = cir_dataset.GetRasterBand(2)\n",
    "array_red = band_red.ReadAsArray()\n",
    "array_red = np.copy(array_red)\n",
    "\n",
    "band_green = cir_dataset.GetRasterBand(3)\n",
    "array_green = band_green.ReadAsArray()\n",
    "array_green = np.copy(array_green)\n",
    "\n",
    "band_blue = rgb_dataset.GetRasterBand(3)\n",
    "array_blue = band_blue.ReadAsArray()\n",
    "array_blue = np.copy(array_blue)"
   ]
  },
  {
   "cell_type": "code",
   "execution_count": 20,
   "metadata": {},
   "outputs": [],
   "source": [
    "ids = np.array([7, 0, 3])\n",
    "\n",
    "vector_features = gpd.read_file(R\"budynki\\budynki.shp\")\n",
    "\n",
    "features = reproject_geodataframe(vector_features, cir_dataset.GetProjection())\n",
    "features = convert_to_pixel_system(features, cir_dataset.GetGeoTransform())"
   ]
  },
  {
   "cell_type": "code",
   "execution_count": null,
   "metadata": {},
   "outputs": [
    {
     "name": "stdout",
     "output_type": "stream",
     "text": [
      "[113  87  87 ... 151 143 150] 48 157 77.2828999211978\n",
      "40 131 70.44365642237983\n",
      "43 134 71.22695035460993\n",
      "37 120 65.39322301024428\n",
      "[ 86  77  90 ... 125 121 108] 39 187 101.36163265306122\n",
      "47 203 127.01306122448979\n",
      "60 217 132.78448979591838\n",
      "43 205 128.09142857142857\n",
      "[126 116 129 ... 101 111 114] 59 178 90.41953488372093\n",
      "60 189 98.90325581395349\n",
      "55 193 96.62139534883721\n",
      "44 191 92.05953488372093\n"
     ]
    }
   ],
   "source": [
    "for id in ids:\n",
    "    example_feature = features.iloc[id]\n",
    "    example_feature = example_feature['geometry']\n",
    "\n",
    "    bounds = example_feature.bounds\n",
    "    bounds = np.float64(bounds)\n",
    "\n",
    "    bounds[:2] = np.floor(bounds[:2])\n",
    "    bounds[2:] = np.ceil(bounds[2:])\n",
    "    bounds = np.int64(bounds)\n",
    "\n",
    "    fragment_nir = array_nir[\n",
    "        bounds[1]: bounds[3],\n",
    "        bounds[0]: bounds[2]\n",
    "    ]\n",
    "\n",
    "    fragment_red = array_red[\n",
    "        bounds[1]: bounds[3],\n",
    "        bounds[0]: bounds[2]\n",
    "    ]\n",
    "\n",
    "    fragment_green = array_green[\n",
    "        bounds[1]: bounds[3],\n",
    "        bounds[0]: bounds[2]\n",
    "    ]\n",
    "\n",
    "    fragment_blue = array_blue[\n",
    "        bounds[1]: bounds[3],\n",
    "        bounds[0]: bounds[2]\n",
    "    ]\n",
    "\n",
    "    # plt.imsave(f\"img\\\\nir_budynek{id}.png\", fragment_nir, cmap='gray')\n",
    "    # plt.imsave(f\"img\\\\red_budynek{id}.png\", fragment_red, cmap='gray')\n",
    "    # plt.imsave(f\"img\\\\green_budynek{id}.png\", fragment_green, cmap='gray')\n",
    "    # plt.imsave(f\"img\\\\blue_budynek{id}.png\", fragment_blue, cmap='gray')\n",
    "\n",
    "    feature_in_fragment_frame = shapely.affinity.translate(example_feature, -bounds[0], -bounds[1])\n",
    "\n",
    "    from rasterio.features import rasterize\n",
    "\n",
    "    # maska\n",
    "    no_data_mask = rasterize([feature_in_fragment_frame], fragment_nir.shape)\n",
    "    no_data_mask = np.bool_(no_data_mask)\n",
    "    no_data_mask = ~no_data_mask  \n",
    "    \n",
    "    # nir\n",
    "    masked_fragment = np.copy(fragment_nir)\n",
    "    masked_fragment[no_data_mask] = 0\n",
    "\n",
    "    pixel_values = fragment_nir[~no_data_mask]  # Select just valid pixels\n",
    "    print(pixel_values.min(), pixel_values.max(), pixel_values.mean())\n",
    "\n",
    "    plt.imsave(f\"img\\\\nir_budynek{id}.png\", masked_fragment, cmap='gray')\n",
    "\n",
    "    # red\n",
    "    masked_fragment = np.copy(fragment_red)\n",
    "    masked_fragment[no_data_mask] = 0\n",
    "\n",
    "    pixel_values = fragment_red[~no_data_mask]\n",
    "    print(pixel_values.min(), pixel_values.max(), pixel_values.mean())\n",
    "\n",
    "    plt.imsave(f\"img\\\\red_budynek{id}.png\", masked_fragment, cmap='gray')\n",
    "\n",
    "    # green\n",
    "    masked_fragment = np.copy(fragment_green)\n",
    "    masked_fragment[no_data_mask] = 0\n",
    "\n",
    "    pixel_values = fragment_green[~no_data_mask]\n",
    "    print(pixel_values.min(), pixel_values.max(), pixel_values.mean())\n",
    "\n",
    "    plt.imsave(f\"img\\\\green_budynek{id}.png\", masked_fragment, cmap='gray')\n",
    "\n",
    "    # blue\n",
    "    masked_fragment = np.copy(fragment_blue)\n",
    "    masked_fragment[no_data_mask] = 0\n",
    "\n",
    "    pixel_values = fragment_blue[~no_data_mask] \n",
    "    print(pixel_values.min(), pixel_values.max(), pixel_values.mean())\n",
    "\n",
    "    plt.imsave(f\"img\\\\blue_budynek{id}.png\", masked_fragment, cmap='gray')\n",
    "\n",
    "    # rgb\n",
    "    rgb = np.dstack([fragment_red, fragment_green, fragment_blue])\n",
    "    rgb[no_data_mask] = 0\n",
    "\n",
    "    plt.imsave(f\"img\\\\rgb_budynek{id}.png\", rgb, cmap='gray')\n",
    "\n",
    "    # irgb\n",
    "    irgb = np.dstack([fragment_nir, fragment_green, fragment_blue])\n",
    "    irgb[no_data_mask] = 0\n",
    "\n",
    "    plt.imsave(f\"img\\\\irgb_budynek{id}.png\", irgb, cmap='gray')"
   ]
  },
  {
   "cell_type": "code",
   "execution_count": null,
   "metadata": {},
   "outputs": [],
   "source": []
  }
 ],
 "metadata": {
  "kernelspec": {
   "display_name": "teledetekcja",
   "language": "python",
   "name": "python3"
  },
  "language_info": {
   "codemirror_mode": {
    "name": "ipython",
    "version": 3
   },
   "file_extension": ".py",
   "mimetype": "text/x-python",
   "name": "python",
   "nbconvert_exporter": "python",
   "pygments_lexer": "ipython3",
   "version": "3.12.7"
  }
 },
 "nbformat": 4,
 "nbformat_minor": 2
}
